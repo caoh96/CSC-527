{
  "nbformat": 4,
  "nbformat_minor": 0,
  "metadata": {
    "colab": {
      "name": "CSC 527 Homework1",
      "provenance": []
    },
    "kernelspec": {
      "name": "python3",
      "display_name": "Python 3"
    }
  },
  "cells": [
    {
      "cell_type": "code",
      "metadata": {
        "id": "kvGnd9U9cndI",
        "colab_type": "code",
        "colab": {}
      },
      "source": [
        ""
      ],
      "execution_count": null,
      "outputs": []
    },
    {
      "cell_type": "code",
      "metadata": {
        "id": "GnAa2KEcggzp",
        "colab_type": "code",
        "colab": {}
      },
      "source": [
        "import numpy as np   \n",
        "import random\n",
        "\n",
        "class McCullochPitts(object):\n",
        "  \"\"\"Implements a perceptron network\"\"\"\n",
        "  def __init__(self, input_size,lr=1, epochs=1000):\n",
        "    self.W = np.zeros(input_size+1)\n",
        "    # add one for bias\n",
        "    self.epochs = epochs\n",
        "    self.lr =lr\n",
        "  def activation_fn(self, z, bk):\n",
        "    #return (x >= 0).astype(np.float32)\n",
        "    return 1 if z >= -bk else 0\n",
        " \n",
        "  def predict(self, x, bk):\n",
        "    z = self.W.T.dot(x)\n",
        "    a = self.activation_fn(z, bk)\n",
        "    return a\n",
        "  def fit(self, X, Y):\n",
        "    bk = 0\n",
        "    e = 0\n",
        "    for _ in range(self.epochs):\n",
        "      for i in range(Y.shape[0]):\n",
        "        x = np.insert(X[i], 0, 1,)\n",
        "        bk += self.lr * e \n",
        "        y = self.predict(x, bk)\n",
        "        e = Y[i] - y\n",
        "        self.W = self.W + self.lr * e * x\n"
      ],
      "execution_count": 69,
      "outputs": []
    },
    {
      "cell_type": "code",
      "metadata": {
        "id": "qRwMXQ6sl--A",
        "colab_type": "code",
        "colab": {
          "base_uri": "https://localhost:8080/",
          "height": 102
        },
        "outputId": "948deb15-8ce0-475e-849d-7653afb8903b"
      },
      "source": [
        "# AND GATE with 2 inputs\n",
        "if __name__ == '__main__':\n",
        "    X = np.array([\n",
        "        [0, 0],\n",
        "        [0, 1],\n",
        "        [1, 0],\n",
        "        [1, 1]\n",
        "    ])\n",
        "    Y = np.array([0, 0, 0, 1])\n",
        " \n",
        "    perceptron = McCullochPitts(input_size=2)\n",
        "    perceptron.fit(X, Y)\n",
        "    print(X)\n",
        "    print(perceptron)"
      ],
      "execution_count": 43,
      "outputs": [
        {
          "output_type": "stream",
          "text": [
            "[[0 0]\n",
            " [0 1]\n",
            " [1 0]\n",
            " [1 1]]\n",
            "<__main__.McCullochPitts object at 0x7f25e32ac550>\n"
          ],
          "name": "stdout"
        }
      ]
    },
    {
      "cell_type": "code",
      "metadata": {
        "id": "PFZLLh9PovPq",
        "colab_type": "code",
        "colab": {
          "base_uri": "https://localhost:8080/",
          "height": 578
        },
        "outputId": "0fdee39c-791e-4416-ed73-0839b3d99330"
      },
      "source": [
        "# AND GATE with 5 inputs\n",
        "if __name__ == '__main__':\n",
        "  X = np.array([\n",
        "        [0,0,0,0,0],\n",
        "        [0,0,0,0,1],\n",
        "        [0,0,0,1,0],\n",
        "        [0,0,0,1,1],\n",
        "        [0,0,1,0,0],\n",
        "        [0,0,1,0,1],\n",
        "        [0,0,1,1,0],\n",
        "        [0,0,1,1,1],\n",
        "        [0,1,0,0,0],\n",
        "        [0,1,0,0,1],\n",
        "        [0,1,0,1,0],\n",
        "        [0,1,0,1,1],\n",
        "        [0,1,1,0,0],\n",
        "        [0,1,1,0,1],\n",
        "        [0,1,1,1,0],\n",
        "        [0,1,1,1,1],\n",
        "        [1,0,0,0,0],\n",
        "        [1,0,0,0,1],\n",
        "        [1,0,0,1,0],\n",
        "        [1,0,0,1,1],\n",
        "        [1,0,1,0,0],\n",
        "        [1,0,1,0,1],\n",
        "        [1,0,1,1,0],\n",
        "        [1,0,1,1,1],\n",
        "        [1,1,0,0,0],\n",
        "        [1,1,0,0,1],\n",
        "        [1,1,0,1,0],\n",
        "        [1,1,0,1,1],\n",
        "        [1,1,1,0,0],\n",
        "        [1,1,1,0,1],\n",
        "        [1,1,1,1,0],\n",
        "        [1,1,1,1,1]\n",
        "    ])\n",
        "  Y = np.array([0,0,0,0,0,0,0,0,0,0,0,0,0,0,0,0,0,0,0,0,0,0,0,0,0,0,0,0,0,0,0,1])\n",
        " \n",
        "  perceptron = McCullochPitts(input_size=5)\n",
        "  perceptron.fit(X, Y)\n",
        "  print(X)\n",
        "  print(Y)"
      ],
      "execution_count": 4,
      "outputs": [
        {
          "output_type": "stream",
          "text": [
            "[[0 0 0 0 0]\n",
            " [0 0 0 0 1]\n",
            " [0 0 0 1 0]\n",
            " [0 0 0 1 1]\n",
            " [0 0 1 0 0]\n",
            " [0 0 1 0 1]\n",
            " [0 0 1 1 0]\n",
            " [0 0 1 1 1]\n",
            " [0 1 0 0 0]\n",
            " [0 1 0 0 1]\n",
            " [0 1 0 1 0]\n",
            " [0 1 0 1 1]\n",
            " [0 1 1 0 0]\n",
            " [0 1 1 0 1]\n",
            " [0 1 1 1 0]\n",
            " [0 1 1 1 1]\n",
            " [1 0 0 0 0]\n",
            " [1 0 0 0 1]\n",
            " [1 0 0 1 0]\n",
            " [1 0 0 1 1]\n",
            " [1 0 1 0 0]\n",
            " [1 0 1 0 1]\n",
            " [1 0 1 1 0]\n",
            " [1 0 1 1 1]\n",
            " [1 1 0 0 0]\n",
            " [1 1 0 0 1]\n",
            " [1 1 0 1 0]\n",
            " [1 1 0 1 1]\n",
            " [1 1 1 0 0]\n",
            " [1 1 1 0 1]\n",
            " [1 1 1 1 0]\n",
            " [1 1 1 1 1]]\n",
            "[0 0 0 0 0 0 0 0 0 0 0 0 0 0 0 0 0 0 0 0 0 0 0 0 0 0 0 0 0 0 0 1]\n"
          ],
          "name": "stdout"
        }
      ]
    },
    {
      "cell_type": "code",
      "metadata": {
        "id": "q6bQxRJghsym",
        "colab_type": "code",
        "colab": {
          "base_uri": "https://localhost:8080/",
          "height": 578
        },
        "outputId": "7bac6f69-7933-4083-9bba-ded68cef34ff"
      },
      "source": [
        "# OR GATE with 5 inputs\n",
        "if __name__ == '__main__':\n",
        "  X = np.array([\n",
        "        [0,0,0,0,0],\n",
        "        [0,0,0,0,1],\n",
        "        [0,0,0,1,0],\n",
        "        [0,0,0,1,1],\n",
        "        [0,0,1,0,0],\n",
        "        [0,0,1,0,1],\n",
        "        [0,0,1,1,0],\n",
        "        [0,0,1,1,1],\n",
        "        [0,1,0,0,0],\n",
        "        [0,1,0,0,1],\n",
        "        [0,1,0,1,0],\n",
        "        [0,1,0,1,1],\n",
        "        [0,1,1,0,0],\n",
        "        [0,1,1,0,1],\n",
        "        [0,1,1,1,0],\n",
        "        [0,1,1,1,1],\n",
        "        [1,0,0,0,0],\n",
        "        [1,0,0,0,1],\n",
        "        [1,0,0,1,0],\n",
        "        [1,0,0,1,1],\n",
        "        [1,0,1,0,0],\n",
        "        [1,0,1,0,1],\n",
        "        [1,0,1,1,0],\n",
        "        [1,0,1,1,1],\n",
        "        [1,1,0,0,0],\n",
        "        [1,1,0,0,1],\n",
        "        [1,1,0,1,0],\n",
        "        [1,1,0,1,1],\n",
        "        [1,1,1,0,0],\n",
        "        [1,1,1,0,1],\n",
        "        [1,1,1,1,0],\n",
        "        [1,1,1,1,1]\n",
        "    ])\n",
        "  Y = np.array([0,1,1,1,1,1,1,1,1,1,1,1,1,1,1,1,1,1,1,1,1,1,1,1,1,1,1,1,1,1,1,1])\n",
        " \n",
        "  perceptron = McCullochPitts(input_size=5)\n",
        "  perceptron.fit(X, Y)\n",
        "  print(X)\n",
        "  print(perceptron)"
      ],
      "execution_count": 5,
      "outputs": [
        {
          "output_type": "stream",
          "text": [
            "[[0 0 0 0 0]\n",
            " [0 0 0 0 1]\n",
            " [0 0 0 1 0]\n",
            " [0 0 0 1 1]\n",
            " [0 0 1 0 0]\n",
            " [0 0 1 0 1]\n",
            " [0 0 1 1 0]\n",
            " [0 0 1 1 1]\n",
            " [0 1 0 0 0]\n",
            " [0 1 0 0 1]\n",
            " [0 1 0 1 0]\n",
            " [0 1 0 1 1]\n",
            " [0 1 1 0 0]\n",
            " [0 1 1 0 1]\n",
            " [0 1 1 1 0]\n",
            " [0 1 1 1 1]\n",
            " [1 0 0 0 0]\n",
            " [1 0 0 0 1]\n",
            " [1 0 0 1 0]\n",
            " [1 0 0 1 1]\n",
            " [1 0 1 0 0]\n",
            " [1 0 1 0 1]\n",
            " [1 0 1 1 0]\n",
            " [1 0 1 1 1]\n",
            " [1 1 0 0 0]\n",
            " [1 1 0 0 1]\n",
            " [1 1 0 1 0]\n",
            " [1 1 0 1 1]\n",
            " [1 1 1 0 0]\n",
            " [1 1 1 0 1]\n",
            " [1 1 1 1 0]\n",
            " [1 1 1 1 1]]\n",
            "[0 1 1 1 1 1 1 1 1 1 1 1 1 1 1 1 1 1 1 1 1 1 1 1 1 1 1 1 1 1 1 1]\n"
          ],
          "name": "stdout"
        }
      ]
    },
    {
      "cell_type": "code",
      "metadata": {
        "id": "0zdmSsyahtAa",
        "colab_type": "code",
        "colab": {
          "base_uri": "https://localhost:8080/",
          "height": 102
        },
        "outputId": "6e27e042-f903-4a53-bafc-ce1ba3c35a47"
      },
      "source": [
        "# OR GATE with 2 inputs\n",
        "if __name__ == '__main__':\n",
        "  X = np.array([\n",
        "        [0, 0],\n",
        "        [0, 1],\n",
        "        [1, 0],\n",
        "        [1, 1]\n",
        "    ])\n",
        "  Y = np.array([0, 1, 1, 1])\n",
        " \n",
        "  perceptron = McCullochPitts(input_size=2)\n",
        "  perceptron.fit(X, Y)\n",
        "  print(X)\n",
        "  print(Y)\n"
      ],
      "execution_count": 6,
      "outputs": [
        {
          "output_type": "stream",
          "text": [
            "[[0 0]\n",
            " [0 1]\n",
            " [1 0]\n",
            " [1 1]]\n",
            "[0 1 1 1]\n"
          ],
          "name": "stdout"
        }
      ]
    },
    {
      "cell_type": "code",
      "metadata": {
        "id": "IC6ZCjJXF5Dl",
        "colab_type": "code",
        "colab": {}
      },
      "source": [
        "# Second Attempt"
      ],
      "execution_count": null,
      "outputs": []
    },
    {
      "cell_type": "code",
      "metadata": {
        "id": "De6UUN6pExDK",
        "colab_type": "code",
        "colab": {}
      },
      "source": [
        "def initialize_weights():\n",
        "    # Generate random numbers\n",
        "    random.seed(1)\n",
        "\n",
        "    # Assign random weights to a 4 x 1 matrix\n",
        "    synaptic_weights = np.array([[0],[0],[0],[0]])\n",
        "    synaptic_weights = synaptic_weights.astype('int')\n",
        "    return synaptic_weights\n",
        "\n",
        "def learn(inputs, synaptic_weights, bias):\n",
        "    return np.dot(inputs.T, synaptic_weights) + bias\n",
        "\n",
        "def train(inputs, expected_output, synaptic_weights, bias, learning_rate, training_iterations):\n",
        "      for epoch in range(training_iterations):\n",
        "            # Forward pass -- Pass the training set through the network.\n",
        "          predicted_output = learn(inputs, synaptic_weights, bias)\n",
        "\n",
        "          # Backaward pass\n",
        "          # Calculate the error\n",
        "          error = (expected_output - predicted_output)\n",
        "\n",
        "          # Adjust the weights and bias by a factor\n",
        "          weight_factor = np.dot(inputs.T, error.T) * learning_rate\n",
        "          bias_factor = error * learning_rate\n",
        "\n",
        "          # Update the synaptic weights\n",
        "          synaptic_weights += weight_factor.astype('int')\n",
        "\n",
        "          # Update the bias\n",
        "          bias += bias_factor\n",
        "\n",
        "          if ((epoch % 1000) == 0):\n",
        "              print(\"Epoch\", epoch)\n",
        "              print(\"Predicted Output = \", predicted_output.T)\n",
        "              print(\"Expected Output = \", expected_output.T)\n",
        "              print()\n",
        "      return synaptic_weights"
      ],
      "execution_count": null,
      "outputs": []
    },
    {
      "cell_type": "code",
      "metadata": {
        "id": "BBy6Nc0sF37m",
        "colab_type": "code",
        "colab": {}
      },
      "source": [
        "synaptic_weights = initialize_weights()\n",
        "\n",
        "    # The training set\n",
        "inputs = np.array([[0, 1],\n",
        "                    [1, 0],\n",
        "                    [1, 0],\n",
        "                    [1,1]])\n",
        "\n",
        "    # Target set\n",
        "expected_output = np.array([0, 0,0, 1])\n",
        "\n",
        "    # Test set\n",
        "test = np.array([1, 0,0, 1])\n",
        "print(inputs)\n",
        "print(synaptic_weights)\n",
        "    # Train the neural network\n",
        "trained_weights = train(inputs, expected_output, synaptic_weights, bias=0.001, learning_rate=0.98,\n",
        "                            training_iterations=100)"
      ],
      "execution_count": null,
      "outputs": []
    }
  ]
}